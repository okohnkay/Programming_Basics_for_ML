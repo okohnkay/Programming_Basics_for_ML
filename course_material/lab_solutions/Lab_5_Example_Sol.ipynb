{
 "cells": [
  {
   "cell_type": "code",
   "execution_count": null,
   "metadata": {},
   "outputs": [],
   "source": []
  },
  {
   "cell_type": "markdown",
   "metadata": {},
   "source": [
    "# Lab #5\n",
    "\n",
    "## Q1"
   ]
  },
  {
   "cell_type": "code",
   "execution_count": 1,
   "metadata": {},
   "outputs": [],
   "source": [
    "def bmiInputs():\n",
    "    # Get the user's height and weight\n",
    "    height = float(input(\"Enter your height in meters: \"))\n",
    "    weight = float(input(\"Enter your weight in kg: \"))\n",
    "    return height, weight\n",
    "\n",
    "def bmiCalc(height, weight):\n",
    "    # Calculate the user's BMI\n",
    "    bmi = weight / (height ** 2)\n",
    "    return bmi\n",
    "\n",
    "def bmiCategory(bmi):\n",
    "    # Determine the user's BMI category\n",
    "    if bmi < 18.5:\n",
    "        category = \"underweight\"\n",
    "    elif bmi < 25:\n",
    "        category = \"normal\"\n",
    "    elif bmi < 30:\n",
    "        category = \"overweight\"\n",
    "    else:\n",
    "        category = \"obese\"\n",
    "    return category\n",
    "\n",
    "def bmiAdvisor(height=None, weight=None):\n",
    "    # Main function to run the BMI calculator\n",
    "    if height is None or weight is None:\n",
    "        height, weight = bmiInputs()\n",
    "    bmi = bmiCalc(height, weight)\n",
    "    category = bmiCategory(bmi)\n",
    "    print(\"Your BMI is\", bmi, \"and you are\", category)"
   ]
  },
  {
   "cell_type": "code",
   "execution_count": 2,
   "metadata": {},
   "outputs": [
    {
     "name": "stdout",
     "output_type": "stream",
     "text": [
      "Your BMI is 31.353578787064404 and you are obese\n"
     ]
    }
   ],
   "source": [
    "bmiAdvisor()"
   ]
  },
  {
   "cell_type": "markdown",
   "metadata": {},
   "source": [
    "## Q2"
   ]
  },
  {
   "cell_type": "code",
   "execution_count": 5,
   "metadata": {},
   "outputs": [],
   "source": [
    "def fileReader(filename, lowerLim, upperLim):\n",
    "    f = open(filename, \"r\")\n",
    "    lines = f.readlines()\n",
    "    f.close()\n",
    "    for line in lines:\n",
    "        line = line.strip()\n",
    "        if lowerLim <= line <= upperLim:\n",
    "            print(line)"
   ]
  },
  {
   "cell_type": "code",
   "execution_count": 6,
   "metadata": {},
   "outputs": [
    {
     "name": "stdout",
     "output_type": "stream",
     "text": [
      "aspiration\n",
      "classified\n",
      "federation\n",
      "graduation\n",
      "millennium\n"
     ]
    }
   ],
   "source": [
    "fileReader(\"Lab5_input.txt\", \"ammoniated\", \"millennium\")"
   ]
  },
  {
   "cell_type": "markdown",
   "metadata": {},
   "source": [
    "## Q3"
   ]
  },
  {
   "cell_type": "code",
   "execution_count": 7,
   "metadata": {},
   "outputs": [],
   "source": [
    "def acronym(phrase):\n",
    "    words = phrase.split()\n",
    "    acronym = \"\"\n",
    "    for word in words:\n",
    "        if word[0].isupper():\n",
    "            acronym += word[0]\n",
    "    return acronym"
   ]
  },
  {
   "cell_type": "code",
   "execution_count": 8,
   "metadata": {},
   "outputs": [
    {
     "data": {
      "text/plain": [
       "'NAIT'"
      ]
     },
     "execution_count": 8,
     "metadata": {},
     "output_type": "execute_result"
    }
   ],
   "source": [
    "acronym(\"Northern Alberta Institute of Technology\")"
   ]
  },
  {
   "cell_type": "markdown",
   "metadata": {},
   "source": [
    "## Q4"
   ]
  },
  {
   "cell_type": "code",
   "execution_count": 11,
   "metadata": {},
   "outputs": [],
   "source": [
    "def characterChecker(string1, string2, to_print=True):\n",
    "    set1 = set(string1)\n",
    "    set2 = set(string2)\n",
    "    in_both = set1.intersection(set2)\n",
    "    in_only_one = set1.symmetric_difference(set2)\n",
    "    if to_print:\n",
    "        print(\"Characters in both strings:\", in_both)\n",
    "        print(\"Characters in only one string:\", in_only_one)\n",
    "    return in_both, in_only_one"
   ]
  },
  {
   "cell_type": "code",
   "execution_count": 12,
   "metadata": {},
   "outputs": [
    {
     "name": "stdout",
     "output_type": "stream",
     "text": [
      "Characters in both strings: {'o', 'l'}\n",
      "Characters in only one string: {'d', 'e', 'r', 'h', 'w'}\n",
      "{'o', 'l'}\n",
      "{'d', 'e', 'r', 'h', 'w'}\n"
     ]
    }
   ],
   "source": [
    "both, one = characterChecker(\"hello\", \"world\")\n",
    "print(both)\n",
    "print(one)"
   ]
  }
 ],
 "metadata": {
  "kernelspec": {
   "display_name": "ml_2",
   "language": "python",
   "name": "python3"
  },
  "language_info": {
   "codemirror_mode": {
    "name": "ipython",
    "version": 3
   },
   "file_extension": ".py",
   "mimetype": "text/x-python",
   "name": "python",
   "nbconvert_exporter": "python",
   "pygments_lexer": "ipython3",
   "version": "3.10.9"
  },
  "orig_nbformat": 4
 },
 "nbformat": 4,
 "nbformat_minor": 2
}
