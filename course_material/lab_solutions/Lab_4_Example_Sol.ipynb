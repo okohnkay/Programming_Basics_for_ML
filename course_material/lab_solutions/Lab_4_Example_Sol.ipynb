{
 "cells": [
  {
   "cell_type": "markdown",
   "metadata": {},
   "source": [
    "# Q1"
   ]
  },
  {
   "cell_type": "code",
   "execution_count": 4,
   "metadata": {},
   "outputs": [],
   "source": [
    "def q1(riders_per_ride=4):\n",
    "    line = []\n",
    "    num_vips = 0\n",
    "\n",
    "    menu = ('(1) Reserve place in line.\\n'\n",
    "        '(2) Reserve place in VIP liine.\\n'\n",
    "        '(3) Dispatch riders.\\n'\n",
    "        '(4) Print riders.\\n'\n",
    "        '(5) Exit.\\n\\n')\n",
    "    \n",
    "    user_input = -1\n",
    "\n",
    "    while user_input != '5':\n",
    "        user_input = input(menu).strip()\n",
    "        \n",
    "        if user_input == '1':\n",
    "            name = input('Enter name: ').strip()\n",
    "            print(name)\n",
    "            line.append(name)\n",
    "        elif user_input == '2':\n",
    "            name = input('Enter name: ').strip()\n",
    "            print(name)\n",
    "            line.insert(num_vips, name)\n",
    "            num_vips += 1\n",
    "        elif user_input == '3':\n",
    "            riders_per_ride = int(input('Enter number of riders to dispatch: '))\n",
    "\n",
    "            # Loop through the line and dispatch. \n",
    "            # For each rider, check VIP and deal with it accordingly.\n",
    "            for i in range(riders_per_ride):\n",
    "                if len(line) == 0:\n",
    "                    print('No riders left.')\n",
    "                    break\n",
    "                print(\"Dispatched:\"+str(line.pop(0)))\n",
    "                if num_vips > 0:\n",
    "                    num_vips -= 1\n",
    "        elif user_input == '4':\n",
    "            for name in line:\n",
    "                print(name)\n",
    "        elif user_input == '5':\n",
    "            break\n",
    "\n"
   ]
  },
  {
   "cell_type": "code",
   "execution_count": 5,
   "metadata": {},
   "outputs": [
    {
     "name": "stdout",
     "output_type": "stream",
     "text": [
      "sdfs\n",
      "sdfsde\n",
      "zxcer\n",
      "sdfser\n",
      "Dispatched:sdfsde\n",
      "Dispatched:sdfser\n"
     ]
    }
   ],
   "source": [
    "q1()"
   ]
  },
  {
   "cell_type": "markdown",
   "metadata": {},
   "source": [
    "## Q2"
   ]
  },
  {
   "cell_type": "code",
   "execution_count": 7,
   "metadata": {},
   "outputs": [],
   "source": [
    "def listAdder(list1, cutoff=10):\n",
    "    new_set = set()\n",
    "    for i in list1:\n",
    "        new_set.add(i)\n",
    "        if len(new_set) == cutoff:\n",
    "            break\n",
    "    return list(new_set)"
   ]
  },
  {
   "cell_type": "code",
   "execution_count": 8,
   "metadata": {},
   "outputs": [
    {
     "name": "stdout",
     "output_type": "stream",
     "text": [
      "[32, 65, 1, 2, 3, 4, 67, 5, 23, 56]\n"
     ]
    }
   ],
   "source": [
    "testList = [1,1,2,3,4,3,2,4,65,67,32,1,23,4,56,2,3,5,7,77,777,77,723,5253,123,4,2]\n",
    "vals = listAdder(testList)\n",
    "print(vals)"
   ]
  },
  {
   "cell_type": "markdown",
   "metadata": {},
   "source": [
    "## Q3"
   ]
  },
  {
   "cell_type": "code",
   "execution_count": 10,
   "metadata": {},
   "outputs": [],
   "source": [
    "from collections import Counter\n",
    "import pandas as pd\n",
    "\n",
    "def diceCounter(sides=12):\n",
    "    # setting up the stuff we need. \n",
    "    user_input = 0\n",
    "    counts = Counter()\n",
    "\n",
    "    #taking inputs in a loop\n",
    "    while user_input != -1:\n",
    "        user_input = int(input('Enter dice roll (-1 to quit): '))\n",
    "        if user_input == -1:\n",
    "            break\n",
    "        elif user_input > sides or user_input < 1:\n",
    "            print('Invalid input.')\n",
    "            continue\n",
    "        else:\n",
    "            counts[user_input] += 1\n",
    "            \n",
    "    # preparing the final result\n",
    "    valSeries = pd.Series(counts)\n",
    "    print(valSeries.value_counts().sort_index())\n",
    "    return counts"
   ]
  },
  {
   "cell_type": "code",
   "execution_count": 11,
   "metadata": {},
   "outputs": [
    {
     "name": "stdout",
     "output_type": "stream",
     "text": [
      "1    4\n",
      "2    3\n",
      "dtype: int64\n"
     ]
    },
    {
     "data": {
      "text/plain": [
       "Counter({2: 1, 12: 1, 4: 2, 6: 2, 3: 2, 8: 1, 9: 1})"
      ]
     },
     "execution_count": 11,
     "metadata": {},
     "output_type": "execute_result"
    }
   ],
   "source": [
    "diceCounter()"
   ]
  },
  {
   "cell_type": "markdown",
   "metadata": {},
   "source": [
    "## Q4"
   ]
  },
  {
   "cell_type": "code",
   "execution_count": 12,
   "metadata": {},
   "outputs": [],
   "source": [
    "def listSwapper(list1):\n",
    "    half = len(list1) // 2\n",
    "    listA = []\n",
    "    listB = []\n",
    "    if len(list1) % 2 == 1:\n",
    "        return \"Odd number of elements.\"\n",
    "    else:\n",
    "        listA = list1[:half]\n",
    "        listB = list1[half:]\n",
    "    return listB + listA"
   ]
  },
  {
   "cell_type": "code",
   "execution_count": 13,
   "metadata": {},
   "outputs": [
    {
     "name": "stdout",
     "output_type": "stream",
     "text": [
      "[6, 7, 8, 9, 10, 1, 2, 3, 4, 5]\n"
     ]
    }
   ],
   "source": [
    "print(listSwapper([1,2,3,4,5,6,7,8,9,10]))"
   ]
  },
  {
   "cell_type": "markdown",
   "metadata": {},
   "source": [
    "## Q5"
   ]
  },
  {
   "cell_type": "code",
   "execution_count": 14,
   "metadata": {},
   "outputs": [],
   "source": [
    "def integerLister():\n",
    "    user_input = None\n",
    "    prompt1 = 'Enter integer (blank to proceed): '\n",
    "    prompt2 = 'Enter upper limit: '\n",
    "    prompt3 = 'Enter lower limit: '\n",
    "    intList = []\n",
    "\n",
    "    while user_input != '':\n",
    "        try:\n",
    "            user_input = int(input(prompt1))\n",
    "        except ValueError:\n",
    "            #print('Invalid input.')\n",
    "            break\n",
    "        if user_input == ' ':\n",
    "            break\n",
    "        else:\n",
    "            intList.append(user_input)\n",
    "\n",
    "    upper = int(input(prompt2))\n",
    "    lower = int(input(prompt3))\n",
    "    \n",
    "    return [x for x in intList if x <= upper and x >= lower]\n"
   ]
  },
  {
   "cell_type": "code",
   "execution_count": 15,
   "metadata": {},
   "outputs": [
    {
     "ename": "ValueError",
     "evalue": "invalid literal for int() with base 10: ''",
     "output_type": "error",
     "traceback": [
      "\u001b[0;31m---------------------------------------------------------------------------\u001b[0m",
      "\u001b[0;31mValueError\u001b[0m                                Traceback (most recent call last)",
      "\u001b[1;32m/Users/akeem/Documents/GitHub/Programming_Basics_for_ML/course_material/lab_solutions/Lab_4_Example_Sol.ipynb Cell 15\u001b[0m line \u001b[0;36m1\n\u001b[0;32m----> <a href='vscode-notebook-cell:/Users/akeem/Documents/GitHub/Programming_Basics_for_ML/course_material/lab_solutions/Lab_4_Example_Sol.ipynb#X22sZmlsZQ%3D%3D?line=0'>1</a>\u001b[0m integerLister()\n",
      "\u001b[1;32m/Users/akeem/Documents/GitHub/Programming_Basics_for_ML/course_material/lab_solutions/Lab_4_Example_Sol.ipynb Cell 15\u001b[0m line \u001b[0;36m1\n\u001b[1;32m     <a href='vscode-notebook-cell:/Users/akeem/Documents/GitHub/Programming_Basics_for_ML/course_material/lab_solutions/Lab_4_Example_Sol.ipynb#X22sZmlsZQ%3D%3D?line=15'>16</a>\u001b[0m     \u001b[39melse\u001b[39;00m:\n\u001b[1;32m     <a href='vscode-notebook-cell:/Users/akeem/Documents/GitHub/Programming_Basics_for_ML/course_material/lab_solutions/Lab_4_Example_Sol.ipynb#X22sZmlsZQ%3D%3D?line=16'>17</a>\u001b[0m         intList\u001b[39m.\u001b[39mappend(user_input)\n\u001b[0;32m---> <a href='vscode-notebook-cell:/Users/akeem/Documents/GitHub/Programming_Basics_for_ML/course_material/lab_solutions/Lab_4_Example_Sol.ipynb#X22sZmlsZQ%3D%3D?line=18'>19</a>\u001b[0m upper \u001b[39m=\u001b[39m \u001b[39mint\u001b[39;49m(\u001b[39minput\u001b[39;49m(prompt2))\n\u001b[1;32m     <a href='vscode-notebook-cell:/Users/akeem/Documents/GitHub/Programming_Basics_for_ML/course_material/lab_solutions/Lab_4_Example_Sol.ipynb#X22sZmlsZQ%3D%3D?line=19'>20</a>\u001b[0m lower \u001b[39m=\u001b[39m \u001b[39mint\u001b[39m(\u001b[39minput\u001b[39m(prompt3))\n\u001b[1;32m     <a href='vscode-notebook-cell:/Users/akeem/Documents/GitHub/Programming_Basics_for_ML/course_material/lab_solutions/Lab_4_Example_Sol.ipynb#X22sZmlsZQ%3D%3D?line=20'>21</a>\u001b[0m \u001b[39mreturn\u001b[39;00m [x \u001b[39mfor\u001b[39;00m x \u001b[39min\u001b[39;00m intList \u001b[39mif\u001b[39;00m x \u001b[39m<\u001b[39m\u001b[39m=\u001b[39m upper \u001b[39mand\u001b[39;00m x \u001b[39m>\u001b[39m\u001b[39m=\u001b[39m lower]\n",
      "\u001b[0;31mValueError\u001b[0m: invalid literal for int() with base 10: ''"
     ]
    }
   ],
   "source": [
    "integerLister()"
   ]
  }
 ],
 "metadata": {
  "kernelspec": {
   "display_name": "ml_env",
   "language": "python",
   "name": "python3"
  },
  "language_info": {
   "codemirror_mode": {
    "name": "ipython",
    "version": 3
   },
   "file_extension": ".py",
   "mimetype": "text/x-python",
   "name": "python",
   "nbconvert_exporter": "python",
   "pygments_lexer": "ipython3",
   "version": "3.10.9"
  },
  "orig_nbformat": 4
 },
 "nbformat": 4,
 "nbformat_minor": 2
}
