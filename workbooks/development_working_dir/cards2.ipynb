{
 "cells": [
  {
   "cell_type": "code",
   "execution_count": null,
   "metadata": {},
   "outputs": [],
   "source": [
    "class Player():\n",
    "\n",
    "    def __init__(self, name, hand, bank=1000):\n",
    "        self.name = name\n",
    "        self.hand = hand\n",
    "        self.bank = bank\n",
    "\n",
    "    def __str__(self):\n",
    "        return self.name+\": \"+str(self.hand)\n",
    "\n",
    "    def __repr__(self):\n",
    "        return self.name+\": \"+str(self.hand)\n",
    "    \n",
    "class FiveCardDraw():\n",
    "\n",
    "    def __init__(self, num_players=4, num_cards=5):\n",
    "        self.num_players = num_players\n",
    "        self.num_cards = num_cards\n",
    "        self.deck = Deck(shuffle=True, populate=True)\n",
    "        self.hands = self.deck.deal(self.num_players, self.num_cards)\n",
    "    \n",
    "    def __str__(self):\n",
    "        return_string = \"\"\n",
    "        for i, hand in enumerate(self.hands):\n",
    "            return_string += \"Player: \"+str(i)+\":\\n\"+str(hand)+\"\\n\"\n",
    "        return return_string\n",
    "    \n",
    "    def swap(self, player, cards):\n",
    "        #self.hands[player].removeCard(cards)\n",
    "        pass"
   ]
  },
  {
   "cell_type": "code",
   "execution_count": null,
   "metadata": {},
   "outputs": [],
   "source": [
    "fcd = FiveCardDraw()\n",
    "print(fcd)"
   ]
  }
 ],
 "metadata": {
  "language_info": {
   "name": "python"
  },
  "orig_nbformat": 4
 },
 "nbformat": 4,
 "nbformat_minor": 2
}
