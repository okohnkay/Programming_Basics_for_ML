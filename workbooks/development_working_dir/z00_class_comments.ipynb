{
 "cells": [
  {
   "cell_type": "code",
   "execution_count": null,
   "metadata": {},
   "outputs": [],
   "source": []
  },
  {
   "cell_type": "markdown",
   "metadata": {},
   "source": [
    "# Commenting and Docstrings\n",
    "\n",
    "As we're starting to see, the code we write can get complicated quickly. We need to be able to explain what our code does, and how to use it. We also need to be able to explain what our code does to ourselves, when we come back to it after a few months.\n",
    "\n",
    "## Docstrings\n",
    "\n",
    "Docstrings are a way of documenting our code. They are a string that is the first thing in a function, class, or module. They are used by the `help()` function that we can call on any object. The docstring is a comment with some useful information, and it is written in a special way so that Python can find it and use it."
   ]
  },
  {
   "cell_type": "code",
   "execution_count": 1,
   "metadata": {},
   "outputs": [],
   "source": [
    "#Person class with proper comments\n",
    "class Person:\n",
    "    \"\"\"This is a person class with name and age attributes\"\"\"\n",
    "    \n",
    "    def __init__(self, name, age):\n",
    "        \"\"\"This is the constructor of the Person class\"\"\"\n",
    "        self.name = name\n",
    "        self.age = age\n",
    "\n",
    "    def get_name(self):\n",
    "        \"\"\"This method returns the name of the person\"\"\"\n",
    "        return self.name\n",
    "\n",
    "    def get_age(self):\n",
    "        \"\"\"This method returns the age of the person\"\"\"\n",
    "        return self.age\n",
    "\n",
    "    def set_name(self, name):\n",
    "        \"\"\"This method sets the name of the person\"\"\"\n",
    "        self.name = name\n",
    "\n",
    "    def set_age(self, age):\n",
    "        \"\"\"This method sets the age of the person\"\"\"\n",
    "        self.age = age\n",
    "\n",
    "    def __str__(self):\n",
    "        \"\"\"This method returns the string representation of the Person class\"\"\"\n",
    "        return \"Person [name = \"+self.name+\", age = \"+str(self.age)+\"]\""
   ]
  },
  {
   "cell_type": "markdown",
   "metadata": {},
   "source": [
    "## More Elaborate Comments\n",
    "\n",
    "The docstring above provide some context. For things that are more complicated, or for anything that is going to be used for a long time and shared with others, we want to provide more information in the docstring. This information is what we see when we use the `help()` function or when VS Code pops up hints on the object we are using. "
   ]
  },
  {
   "cell_type": "code",
   "execution_count": 2,
   "metadata": {},
   "outputs": [],
   "source": [
    "class Student(Person):\n",
    "    \"\"\"This is a student class, it inherits from the Person class.\n",
    "\n",
    "    ...\n",
    "\n",
    "    Attributes:\n",
    "        name: A string representing the name of the student\n",
    "        age: An integer representing the age of the student\n",
    "        roll_no: An integer representing the roll_no of the student\n",
    "    \n",
    "    Methods:\n",
    "        get_name(): Returns the name of the student\n",
    "        get_age(): Returns the age of the student\n",
    "        get_roll_no(): Returns the roll_no of the student\n",
    "        set_name(name): Sets the name of the student\n",
    "        set_age(age): Sets the age of the student\n",
    "        set_roll_no(roll_no): Sets the roll_no of the student\n",
    "        __str__(): Returns the string representation of the Student class\n",
    "    \"\"\"\n",
    "\n",
    "    def __init__(self, name, age, roll_no):\n",
    "        \"\"\"This is the constructor of the Student class\"\"\"\n",
    "        super().__init__(name, age)\n",
    "        self.roll_no = roll_no\n",
    "\n",
    "    def get_roll_no(self):\n",
    "        \"\"\"This method returns the roll_no of the student\"\"\"\n",
    "        return self.roll_no\n",
    "\n",
    "    def set_roll_no(self, roll_no):\n",
    "        \"\"\"This method sets the roll_no of the student\"\"\"\n",
    "        self.roll_no = roll_no\n",
    "\n",
    "    def __str__(self):\n",
    "        \"\"\"This method returns the string representation of the Student class\"\"\"\n",
    "        return \"Student [name = \"+self.name+\", age = \"+str(self.age)+\", roll_no = \"+str(self.roll_no)+\"]\""
   ]
  },
  {
   "cell_type": "code",
   "execution_count": 3,
   "metadata": {},
   "outputs": [
    {
     "name": "stdout",
     "output_type": "stream",
     "text": [
      "Help on Student in module __main__ object:\n",
      "\n",
      "class Student(Person)\n",
      " |  Student(name, age, roll_no)\n",
      " |  \n",
      " |  This is a student class, it inherits from the Person class.\n",
      " |  \n",
      " |  ...\n",
      " |  \n",
      " |  Attributes:\n",
      " |      name: A string representing the name of the student\n",
      " |      age: An integer representing the age of the student\n",
      " |      roll_no: An integer representing the roll_no of the student\n",
      " |  \n",
      " |  Methods:\n",
      " |      get_name(): Returns the name of the student\n",
      " |      get_age(): Returns the age of the student\n",
      " |      get_roll_no(): Returns the roll_no of the student\n",
      " |      set_name(name): Sets the name of the student\n",
      " |      set_age(age): Sets the age of the student\n",
      " |      set_roll_no(roll_no): Sets the roll_no of the student\n",
      " |      __str__(): Returns the string representation of the Student class\n",
      " |  \n",
      " |  Method resolution order:\n",
      " |      Student\n",
      " |      Person\n",
      " |      builtins.object\n",
      " |  \n",
      " |  Methods defined here:\n",
      " |  \n",
      " |  __init__(self, name, age, roll_no)\n",
      " |      This is the constructor of the Student class\n",
      " |  \n",
      " |  __str__(self)\n",
      " |      This method returns the string representation of the Student class\n",
      " |  \n",
      " |  get_roll_no(self)\n",
      " |      This method returns the roll_no of the student\n",
      " |  \n",
      " |  set_roll_no(self, roll_no)\n",
      " |      This method sets the roll_no of the student\n",
      " |  \n",
      " |  ----------------------------------------------------------------------\n",
      " |  Methods inherited from Person:\n",
      " |  \n",
      " |  get_age(self)\n",
      " |      This method returns the age of the person\n",
      " |  \n",
      " |  get_name(self)\n",
      " |      This method returns the name of the person\n",
      " |  \n",
      " |  set_age(self, age)\n",
      " |      This method sets the age of the person\n",
      " |  \n",
      " |  set_name(self, name)\n",
      " |      This method sets the name of the person\n",
      " |  \n",
      " |  ----------------------------------------------------------------------\n",
      " |  Data descriptors inherited from Person:\n",
      " |  \n",
      " |  __dict__\n",
      " |      dictionary for instance variables (if defined)\n",
      " |  \n",
      " |  __weakref__\n",
      " |      list of weak references to the object (if defined)\n",
      "\n"
     ]
    }
   ],
   "source": [
    "my_student = Student(\"John\", 20, 101)\n",
    "help(my_student)"
   ]
  },
  {
   "cell_type": "markdown",
   "metadata": {},
   "source": [
    "### How Much do I Really Need to Comment?\n",
    "\n",
    "The short answer is: as much as you can. Having more of an explanation for your code is very rarely a bad thing, though the importance varies. If you are writing code that is only going to be used by you, then you can probably get away with less commenting. If you're working on larger projects with others, or especially if you are writing things that may be used or distributed to others, then you should really try to provide a full, coherent, and detailed explanation of what your code does in the docstring and comments. \n",
    "\n",
    "For the immediate future, you're probably going to be writing things that are pretty limited in scope and that few other people will ever touch, so commenting may feel extra annoying and useless. However, it's a good habit to get into, and it will make your life easier when you do start working on larger projects."
   ]
  }
 ],
 "metadata": {
  "kernelspec": {
   "display_name": "ml_env",
   "language": "python",
   "name": "python3"
  },
  "language_info": {
   "codemirror_mode": {
    "name": "ipython",
    "version": 3
   },
   "file_extension": ".py",
   "mimetype": "text/x-python",
   "name": "python",
   "nbconvert_exporter": "python",
   "pygments_lexer": "ipython3",
   "version": "3.10.9"
  },
  "orig_nbformat": 4
 },
 "nbformat": 4,
 "nbformat_minor": 2
}
