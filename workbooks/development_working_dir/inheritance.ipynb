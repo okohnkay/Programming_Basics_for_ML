{
 "cells": [
  {
   "cell_type": "code",
   "execution_count": null,
   "metadata": {},
   "outputs": [],
   "source": []
  },
  {
   "cell_type": "markdown",
   "metadata": {},
   "source": [
    "# Inheritance\n",
    "\n",
    "One of the most powerful aspects of object-oriented programming is how it allows for the reuse of code. Inheritance is a key feature of object-oriented programming that allows a class to inherit the behavior of another class, extending its abilities or creating a subtype of it. "
   ]
  },
  {
   "cell_type": "code",
   "execution_count": null,
   "metadata": {},
   "outputs": [],
   "source": []
  },
  {
   "cell_type": "markdown",
   "metadata": {},
   "source": [
    "### Inheriting from a Class\n",
    "\n",
    "In Python, inheritance works by passing the parent class as an argument to the definition of a child class. The child class will inherit all of the attributes and methods of the parent class, and can be used in the same way as the parent class. \n",
    "\n",
    "```python\n",
    "\n",
    "class ParentClass:\n",
    "    def __init__(self):\n",
    "        self.parent_attribute = \"I'm an attribute of the parent class\"\n",
    "    \n",
    "    def parent_method(self):\n",
    "        print(\"I'm a method of the parent class\")\n",
    "\n",
    "class ChildClass(ParentClass):\n",
    "\n",
    "    def __init__(self):\n",
    "        super().__init__()\n",
    "        self.child_attribute = \"I'm an attribute of the child class\"\n",
    "    \n",
    "    def child_method(self):\n",
    "        print(\"I'm a method of the child class\")\n",
    "\n",
    "```"
   ]
  },
  {
   "cell_type": "code",
   "execution_count": null,
   "metadata": {},
   "outputs": [],
   "source": []
  },
  {
   "cell_type": "markdown",
   "metadata": {},
   "source": [
    "### Overriding Methods\n",
    "\n",
    "Inheritance allows us to override methods of the parent class. This is useful when we want to change the behavior of a method in the child class. \n",
    "\n",
    "Overriding a method is as simple as defining a method with the same name in the child class. This is very useful as it allows us to redefine methods so they make sense given the context of our object - such as how adding two strings with a `+` operator concatenates them, but adding two integers with a `+` operator adds them together. \n",
    "\n",
    "Overriding methods can also help to make it easier to build reusable code. We can define a method in the parent class that defines some action, then each child class can implement that action in a way that makes sense for that class. For example, if we think of the context of a grocery store and the items in it. There may be an \"item\" class that defines some basic attributes and methods that all items have, such as a name, price, and a method to calculate the tax on the item. Then, we can define a \"produce\" class that inherits from the \"item\" class, and overrides the tax calculation method to return 0, since produce is not taxed. \n",
    "\n",
    "<b>Note:</b> \"ingredients\" in Canada aren't taxed - things like vegtables, meat, etc. Other products, like soap, or ready to eat meals, are taxed. "
   ]
  },
  {
   "cell_type": "code",
   "execution_count": null,
   "metadata": {},
   "outputs": [],
   "source": []
  },
  {
   "cell_type": "markdown",
   "metadata": {},
   "source": [
    "### Common Inheritance \n",
    "\n",
    "Many things that we use all the time in Python are inherited from some other parent class. For example, the 'string' class is "
   ]
  },
  {
   "cell_type": "markdown",
   "metadata": {},
   "source": [
    "## Exercise"
   ]
  }
 ],
 "metadata": {
  "language_info": {
   "name": "python"
  },
  "orig_nbformat": 4
 },
 "nbformat": 4,
 "nbformat_minor": 2
}
