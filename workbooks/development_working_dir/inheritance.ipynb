{
 "cells": [
  {
   "cell_type": "markdown",
   "metadata": {},
   "source": [
    "# Inheritance\n",
    "\n",
    "One of the most powerful aspects of object-oriented programming is how it allows for the reuse of code. Inheritance is a key feature of object-oriented programming that allows a class to inherit the behavior of another class, extending its abilities or creating a subtype of it. \n",
    "\n",
    "## Inherited Relationship\n",
    "\n",
    "When we use inheritance, we say that there is an \"is-a relationship\", or that the child class is a subtype of the parent class. This means that the subclass (or child class) inherits all of the attributes and behaviors of the superclass (or parent class). The subclass is everything that its parent is, plus whatever unique features it has.\n",
    "\n",
    "This means that the child class can be used as the parent - it has all the same attributes and methods, and we can plug in a child class object anywhere we would use a parent class object. The opposite is not true - we cannot use a parent class object where a child class object is expected, because the parent class object does not have all of the attributes and methods of the child class. For example:\n",
    "<ul>\n",
    "<li> A `Dog` class might inherit from a `Mammal` class, which might inherit from an `Animal` class. </li>\n",
    "<li> A `Dog` is a `Mammal`, and a `Mammal` is an `Animal`.</li> \n",
    "<li> But an `Animal` is not necessarily a `Mammal`, and a `Mammal` is not necessarily a `Dog`.</li>\n",
    "</ul>\n",
    "\n",
    "So a dog can blink(), because that is something all animals can do, and they can give_berth(), because that is something all mammals can do. An Animal object can't wag_your_tail() as that is a dog thing, not an animal thing. "
   ]
  },
  {
   "cell_type": "markdown",
   "metadata": {},
   "source": [
    "### Inheriting from a Class\n",
    "\n",
    "In Python, inheritance works by passing the parent class as an argument to the definition of a child class. The child class will inherit all of the attributes and methods of the parent class, and can be used in the same way as the parent class. \n",
    "\n",
    "With this simple example, every child is also a parent; while every parent is not necessarily a child. "
   ]
  },
  {
   "cell_type": "code",
   "execution_count": null,
   "metadata": {},
   "outputs": [],
   "source": [
    "class ParentClass:\n",
    "    def __init__(self):\n",
    "        self.parent_attribute = \"I'm an attribute of the parent class\"\n",
    "    \n",
    "    def parent_method(self):\n",
    "        return \"I'm a method of the parent class\"\n",
    "\n",
    "class ChildClass(ParentClass):\n",
    "\n",
    "    def __init__(self):\n",
    "        super().__init__()\n",
    "        self.child_attribute = \"I'm an attribute of the child class\"\n",
    "    \n",
    "    def child_method(self):\n",
    "        return \"I'm a method of the child class\""
   ]
  },
  {
   "cell_type": "code",
   "execution_count": null,
   "metadata": {},
   "outputs": [],
   "source": [
    "papa = ParentClass()\n",
    "kid = ChildClass()\n",
    "\n",
    "print(papa.parent_method())\n",
    "print(kid.parent_method())\n",
    "print(kid.child_method())\n",
    "try:\n",
    "    print(papa.child_method())\n",
    "except:\n",
    "    print(\"Parent class doesn't have child_method, you moron!\")"
   ]
  },
  {
   "cell_type": "markdown",
   "metadata": {},
   "source": [
    "### Working Example\n",
    "\n",
    "Let's create a set of example classes that we can weave together to create a zoo. "
   ]
  },
  {
   "cell_type": "code",
   "execution_count": 14,
   "metadata": {},
   "outputs": [],
   "source": [
    "class Animal():\n",
    "    def __init__(self, name):\n",
    "        self._name = name\n",
    "\n",
    "class Mammal(Animal):\n",
    "    def __init__(self, name, fur_color):\n",
    "        super().__init__(name)\n",
    "        self.fur_color = fur_color\n",
    "    def shead(self, color=\"bald\"):\n",
    "        self.fur_color = color\n",
    "        return \"I'm shedding!\"\n",
    "    def walk(self):\n",
    "        return \"I'm walking!\"\n",
    "\n",
    "class Dog(Mammal):\n",
    "    def __init__(self, name, fur_color, breed):\n",
    "        super().__init__(name, fur_color)\n",
    "        self.breed = breed\n",
    "    def bark(self):\n",
    "        return \"Woof!\"\n",
    "    def wag_tail(self):\n",
    "        return \"Wag wag wag!\"\n",
    "    def walk(self):\n",
    "        return \"Here's my leash, let's go for a walk!\""
   ]
  },
  {
   "cell_type": "markdown",
   "metadata": {},
   "source": [
    "Some testing. "
   ]
  },
  {
   "cell_type": "code",
   "execution_count": 15,
   "metadata": {},
   "outputs": [
    {
     "data": {
      "text/plain": [
       "\"Here's my leash, let's go for a walk!\""
      ]
     },
     "execution_count": 15,
     "metadata": {},
     "output_type": "execute_result"
    }
   ],
   "source": [
    "snoopy = Dog(\"Snoopy\", \"white\", \"beagle\")\n",
    "snoopy.walk()"
   ]
  },
  {
   "cell_type": "code",
   "execution_count": 20,
   "metadata": {},
   "outputs": [
    {
     "data": {
      "text/plain": [
       "\"I'm shedding!\""
      ]
     },
     "execution_count": 20,
     "metadata": {},
     "output_type": "execute_result"
    }
   ],
   "source": [
    "snoopy.shead()"
   ]
  },
  {
   "cell_type": "markdown",
   "metadata": {},
   "source": [
    "### Variable Scoping\n",
    "\n",
    "When using attributes inside of classes that we are using for inheritance we need to pay special attention to the scope of each variable. \n",
    "\n",
    "In inheritance this is especially important because we can likely expect a bit of redundancy between the parent and child classes. Variables that are declared with a single underscore in the parent as \"protected\" are a special class of variable that are available to the class itself as well as children, but is limited from being accessible anywhere else."
   ]
  },
  {
   "cell_type": "code",
   "execution_count": null,
   "metadata": {},
   "outputs": [],
   "source": []
  },
  {
   "cell_type": "markdown",
   "metadata": {},
   "source": [
    "### Overriding Methods\n",
    "\n",
    "Inheritance allows us to override methods of the parent class. This is useful when we want to change the behavior of a method in the child class. \n",
    "\n",
    "Overriding a method is as simple as defining a method with the same name in the child class. This is very useful as it allows us to redefine methods so they make sense given the context of our object - such as how adding two strings with a `+` operator concatenates them, but adding two integers with a `+` operator adds them together. \n",
    "\n",
    "Overriding methods can also help to make it easier to build reusable code. We can define a method in the parent class that defines some action, then each child class can implement that action in a way that makes sense for that class. For example, if we think of the context of a grocery store and the items in it. There may be an \"item\" class that defines some basic attributes and methods that all items have, such as a name, price, and a method to calculate the tax on the item. Then, we can define a \"produce\" class that inherits from the \"item\" class, and overrides the tax calculation method to return 0, since produce is not taxed. \n",
    "\n",
    "<b>Note:</b> \"ingredients\" in Canada aren't taxed - things like vegetables, meat, etc. Other products, like soap, or ready to eat meals, are taxed. "
   ]
  },
  {
   "cell_type": "code",
   "execution_count": null,
   "metadata": {},
   "outputs": [],
   "source": []
  },
  {
   "cell_type": "markdown",
   "metadata": {},
   "source": [
    "#### Say Daddy\n",
    "\n",
    "When using inheritance, we can use the `super()` function to call the method of the parent class. This is useful when we want to use the parent class's method, but also want to add some additional functionality to it. For example, if the __str__ function of the parent class returns a string representation of the object, we may want to add some additional information to that string. \n",
    "\n",
    "Super is commonly seen in the constructor of a child class, where we want to call the constructor of the parent class to create the base object, then modify it to be a child object."
   ]
  },
  {
   "cell_type": "code",
   "execution_count": null,
   "metadata": {},
   "outputs": [],
   "source": []
  },
  {
   "cell_type": "markdown",
   "metadata": {},
   "source": [
    "#### Resolution Order\n",
    "\n",
    "We'll look more which method gets called when we have repetitive names next time, when we look at multiple inheritance. For now, the \"lowest\" method in the inheritance tree will be called first. So if we call a method on a child class, it will first look for that method in the child class, then in the parent class, then in the grandparent class, and so on. "
   ]
  },
  {
   "cell_type": "code",
   "execution_count": 16,
   "metadata": {},
   "outputs": [],
   "source": [
    "####"
   ]
  },
  {
   "cell_type": "markdown",
   "metadata": {},
   "source": [
    "### Common Inheritance \n",
    "\n",
    "Many things that we use all the time in Python are inherited from some other parent class. For example, when using data structures in Python, many of them inherit from multiple classes. \n",
    "\n",
    "In fact, every object in Python inherits from the `object` class. This is the most basic class in Python, and defines some basic functionality that all objects have. Functionality such as the `__str__` method, which returns a string representation of the object, or the `__eq__` method, which checks if two objects are equal - things you'll note that we want to override if we want things to be useful, but which work for all objects. When we don't override these, we are getting the \"stock\" version. "
   ]
  },
  {
   "cell_type": "code",
   "execution_count": 17,
   "metadata": {},
   "outputs": [
    {
     "data": {
      "text/plain": [
       "[(object, ()), [(dict, (object,))]]"
      ]
     },
     "execution_count": 17,
     "metadata": {},
     "output_type": "execute_result"
    }
   ],
   "source": [
    "import inspect\n",
    "a ={}\n",
    "inspect.getclasstree(inspect.getmro(type(a)))"
   ]
  },
  {
   "cell_type": "code",
   "execution_count": 18,
   "metadata": {},
   "outputs": [],
   "source": [
    "def classlookup(cls):\n",
    "    c = list(cls.__bases__)\n",
    "    for base in c:\n",
    "        c.extend(classlookup(base))\n",
    "    return c"
   ]
  },
  {
   "cell_type": "code",
   "execution_count": 19,
   "metadata": {},
   "outputs": [
    {
     "data": {
      "text/plain": [
       "[object]"
      ]
     },
     "execution_count": 19,
     "metadata": {},
     "output_type": "execute_result"
    }
   ],
   "source": [
    "classlookup(dict)"
   ]
  },
  {
   "cell_type": "markdown",
   "metadata": {},
   "source": [
    "## Exercise"
   ]
  }
 ],
 "metadata": {
  "kernelspec": {
   "display_name": "ml_env",
   "language": "python",
   "name": "python3"
  },
  "language_info": {
   "codemirror_mode": {
    "name": "ipython",
    "version": 3
   },
   "file_extension": ".py",
   "mimetype": "text/x-python",
   "name": "python",
   "nbconvert_exporter": "python",
   "pygments_lexer": "ipython3",
   "version": "3.10.9"
  },
  "orig_nbformat": 4
 },
 "nbformat": 4,
 "nbformat_minor": 2
}
